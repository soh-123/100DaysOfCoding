{
  "cells": [
    {
      "cell_type": "markdown",
      "metadata": {
        "id": "ka_FkvXBiABo"
      },
      "source": [
        "# Introduction"
      ]
    },
    {
      "cell_type": "markdown",
      "metadata": {
        "id": "AWaMmfxXa-p0",
        "papermill": {
          "duration": 0.035434,
          "end_time": "2020-10-20T21:34:01.886225",
          "exception": false,
          "start_time": "2020-10-20T21:34:01.850791",
          "status": "completed"
        },
        "tags": []
      },
      "source": [
        "<center><img src=\"https://i.imgur.com/9hLRsjZ.jpg\" height=400></center>\n",
        "\n",
        "This dataset was scraped from [nextspaceflight.com](https://nextspaceflight.com/launches/past/?page=1) and includes all the space missions since the beginning of Space Race between the USA and the Soviet Union in 1957!"
      ]
    },
    {
      "cell_type": "markdown",
      "metadata": {
        "id": "ufzKRKS3bV0r"
      },
      "source": [
        "### Install Package with Country Codes"
      ]
    },
    {
      "cell_type": "code",
      "execution_count": null,
      "metadata": {
        "colab": {
          "base_uri": "https://localhost:8080/"
        },
        "id": "0HxV9o6dbRUE",
        "outputId": "35464d43-d601-4b8f-81fd-6dbd400167f5"
      },
      "outputs": [],
      "source": [
        "%pip install iso3166"
      ]
    },
    {
      "cell_type": "markdown",
      "metadata": {
        "id": "sghkhFoLbof8"
      },
      "source": [
        "### Upgrade Plotly\n",
        "\n",
        "Run the cell below if you are working with Google Colab."
      ]
    },
    {
      "cell_type": "code",
      "execution_count": null,
      "metadata": {
        "colab": {
          "base_uri": "https://localhost:8080/"
        },
        "id": "gQ61wy9gbmxd",
        "outputId": "99185d87-acb8-4237-c0f7-bfb18bfd4d39"
      },
      "outputs": [],
      "source": [
        "%pip install --upgrade plotly"
      ]
    },
    {
      "cell_type": "markdown",
      "metadata": {
        "id": "ErFDBihUi1jN"
      },
      "source": [
        "### Import Statements"
      ]
    },
    {
      "cell_type": "code",
      "execution_count": null,
      "metadata": {
        "_cell_guid": "b1076dfc-b9ad-4769-8c92-a6c4dae69d19",
        "_kg_hide-input": true,
        "_kg_hide-output": true,
        "_uuid": "8f2839f25d086af736a60e9eeb907d3b93b6e0e5",
        "colab": {
          "base_uri": "https://localhost:8080/"
        },
        "execution": {
          "iopub.execute_input": "2020-10-20T21:34:02.101551Z",
          "iopub.status.busy": "2020-10-20T21:34:02.101085Z",
          "iopub.status.idle": "2020-10-20T21:34:03.726868Z",
          "shell.execute_reply": "2020-10-20T21:34:03.725783Z"
        },
        "id": "xdolY0-Sa-p1",
        "outputId": "7142dedb-82e9-457d-db44-cea4e121bdfe",
        "papermill": {
          "duration": 1.665326,
          "end_time": "2020-10-20T21:34:03.726995",
          "exception": false,
          "start_time": "2020-10-20T21:34:02.061669",
          "status": "completed"
        },
        "tags": []
      },
      "outputs": [],
      "source": [
        "import numpy as np\n",
        "import pandas as pd\n",
        "import plotly.express as px\n",
        "import matplotlib.pyplot as plt\n",
        "import seaborn as sns\n",
        "\n",
        "# These might be helpful:\n",
        "import iso3166 as iso\n",
        "from datetime import datetime, timedelta"
      ]
    },
    {
      "cell_type": "markdown",
      "metadata": {
        "id": "lovGPRgKxIgo"
      },
      "source": [
        "### Notebook Presentation"
      ]
    },
    {
      "cell_type": "code",
      "execution_count": null,
      "metadata": {
        "id": "DHEULCOjxIIm"
      },
      "outputs": [],
      "source": [
        "pd.options.display.float_format = '{:,.2f}'.format"
      ]
    },
    {
      "cell_type": "markdown",
      "metadata": {
        "id": "yaT3QbjEa-p4",
        "papermill": {
          "duration": 0.034606,
          "end_time": "2020-10-20T21:34:03.798396",
          "exception": false,
          "start_time": "2020-10-20T21:34:03.763790",
          "status": "completed"
        },
        "tags": []
      },
      "source": [
        "### Load the Data"
      ]
    },
    {
      "cell_type": "code",
      "execution_count": null,
      "metadata": {
        "_cell_guid": "79c7e3d0-c299-4dcb-8224-4455121ee9b0",
        "_kg_hide-input": true,
        "_uuid": "d629ff2d2480ee46fbb7e2d37f6b5fab8052498a",
        "execution": {
          "iopub.execute_input": "2020-10-20T21:34:03.874195Z",
          "iopub.status.busy": "2020-10-20T21:34:03.873775Z",
          "iopub.status.idle": "2020-10-20T21:34:03.921919Z",
          "shell.execute_reply": "2020-10-20T21:34:03.921418Z"
        },
        "id": "0lDOu8aka-p4",
        "papermill": {
          "duration": 0.08876,
          "end_time": "2020-10-20T21:34:03.922028",
          "exception": false,
          "start_time": "2020-10-20T21:34:03.833268",
          "status": "completed"
        },
        "tags": []
      },
      "outputs": [],
      "source": [
        "df_data = pd.read_csv('mission_launches.csv')"
      ]
    },
    {
      "cell_type": "markdown",
      "metadata": {
        "id": "jAnMiVcVjuKB"
      },
      "source": [
        "# Preliminary Data Exploration\n",
        "\n",
        "* What is the shape of `df_data`? \n",
        "* How many rows and columns does it have?\n",
        "* What are the column names?\n",
        "* Are there any NaN values or duplicates?"
      ]
    },
    {
      "cell_type": "code",
      "execution_count": null,
      "metadata": {},
      "outputs": [],
      "source": [
        "print(\"The shape of the data is:\",df_data.shape) # Gives shape of data"
      ]
    },
    {
      "cell_type": "code",
      "execution_count": null,
      "metadata": {},
      "outputs": [],
      "source": [
        "count_row = df_data.shape[0]  # Gives number of rows\n",
        "count_col = df_data.shape[1]  # Gives number of columns\n",
        "print(\"There are\",count_row, \"rows and\",count_col, \"columns in this data.\")"
      ]
    },
    {
      "cell_type": "code",
      "execution_count": null,
      "metadata": {},
      "outputs": [],
      "source": [
        "print(\"The column names are as follows:\",df_data.columns)"
      ]
    },
    {
      "cell_type": "code",
      "execution_count": null,
      "metadata": {
        "id": "0dw2hd9UlPmP"
      },
      "outputs": [],
      "source": [
        "#any NAN value?\n",
        "df_data.isna().values.any()"
      ]
    },
    {
      "cell_type": "code",
      "execution_count": null,
      "metadata": {},
      "outputs": [],
      "source": [
        "#any duplicates?\n",
        "df_data.duplicated().values.any()"
      ]
    },
    {
      "cell_type": "markdown",
      "metadata": {
        "id": "KUN30y6ja-p9",
        "papermill": {
          "duration": 0.05406,
          "end_time": "2020-10-20T21:34:04.149973",
          "exception": false,
          "start_time": "2020-10-20T21:34:04.095913",
          "status": "completed"
        },
        "tags": []
      },
      "source": [
        "## Data Cleaning - Check for Missing Values and Duplicates\n",
        "\n",
        "Consider removing columns containing junk data. "
      ]
    },
    {
      "cell_type": "code",
      "execution_count": null,
      "metadata": {
        "id": "wWQvnJb0k2Ig"
      },
      "outputs": [],
      "source": [
        "clean_df = df_data.dropna()"
      ]
    },
    {
      "cell_type": "code",
      "execution_count": null,
      "metadata": {},
      "outputs": [],
      "source": [
        "df_data.drop(columns=['Unnamed: 0'], inplace=True)\n",
        "df_data.head()"
      ]
    },
    {
      "cell_type": "markdown",
      "metadata": {
        "id": "QHon_T5sa-p_",
        "papermill": {
          "duration": 0.036712,
          "end_time": "2020-10-20T21:34:05.227032",
          "exception": false,
          "start_time": "2020-10-20T21:34:05.190320",
          "status": "completed"
        },
        "tags": []
      },
      "source": [
        "## Descriptive Statistics"
      ]
    },
    {
      "cell_type": "code",
      "execution_count": null,
      "metadata": {
        "id": "Fh1-libjkJIK"
      },
      "outputs": [],
      "source": [
        "#column data type\n",
        "df_data.info()"
      ]
    },
    {
      "cell_type": "code",
      "execution_count": null,
      "metadata": {
        "id": "dGZa5HdbkJBT"
      },
      "outputs": [],
      "source": [
        "#descriplive functions on the table\n",
        "df_data.describe()"
      ]
    },
    {
      "cell_type": "code",
      "execution_count": null,
      "metadata": {},
      "outputs": [],
      "source": [
        "df_data[df_data[\"Price\"].notna()][\"Price\"].replace(',', '').astype(float).describe()"
      ]
    },
    {
      "cell_type": "markdown",
      "metadata": {
        "id": "cgCjcpeUkKPW"
      },
      "source": [
        "# Number of Launches per Company\n",
        "\n",
        "Create a chart that shows the number of space mission launches by organisation."
      ]
    },
    {
      "cell_type": "code",
      "execution_count": null,
      "metadata": {
        "id": "rxvcIrtskxYB"
      },
      "outputs": [],
      "source": [
        "df_data[\"Organisation\"].value_counts().plot()"
      ]
    },
    {
      "cell_type": "markdown",
      "metadata": {
        "id": "7Gwteht2kR_h"
      },
      "source": [
        "# Number of Active versus Retired Rockets\n",
        "\n",
        "How many rockets are active compared to those that are decomissioned? "
      ]
    },
    {
      "cell_type": "code",
      "execution_count": null,
      "metadata": {
        "id": "SxmOWS9cmTq6"
      },
      "outputs": [],
      "source": [
        "df_data[\"Status\"].value_counts()"
      ]
    },
    {
      "cell_type": "code",
      "execution_count": null,
      "metadata": {
        "id": "ydj0-OZ6mToH"
      },
      "outputs": [],
      "source": [
        "df_data[\"Status\"].value_counts().sort_values().plot(kind=\"barh\")"
      ]
    },
    {
      "cell_type": "markdown",
      "metadata": {
        "id": "y9WtP5xWkYkp"
      },
      "source": [
        "# Distribution of Mission Status\n",
        "\n",
        "How many missions were successful?\n",
        "How many missions failed?"
      ]
    },
    {
      "cell_type": "code",
      "execution_count": null,
      "metadata": {
        "id": "83kY1alqmUhb"
      },
      "outputs": [],
      "source": [
        "df_data[\"Mission_status\"].value_counts()"
      ]
    },
    {
      "cell_type": "code",
      "execution_count": null,
      "metadata": {},
      "outputs": [],
      "source": [
        "df_data.groupby(\"Mission_status\").agg({\"Mission_status\":pd.Series.count})"
      ]
    },
    {
      "cell_type": "code",
      "execution_count": null,
      "metadata": {
        "id": "bdmXcaopmUeZ"
      },
      "outputs": [],
      "source": [
        "df_data[\"Mission_status\"].value_counts().sort_values().plot(kind=\"bar\")"
      ]
    },
    {
      "cell_type": "markdown",
      "metadata": {
        "id": "jgTCihuoa-qH",
        "papermill": {
          "duration": 0.03854,
          "end_time": "2020-10-20T21:34:05.968626",
          "exception": false,
          "start_time": "2020-10-20T21:34:05.930086",
          "status": "completed"
        },
        "tags": []
      },
      "source": [
        "# How Expensive are the Launches? \n",
        "\n",
        "Create a histogram and visualise the distribution. The price column is given in USD millions (careful of missing values). "
      ]
    },
    {
      "cell_type": "code",
      "execution_count": null,
      "metadata": {
        "id": "PLOMhzZFnSCO"
      },
      "outputs": [],
      "source": [
        "px.histogram(df_data.sort_values(by=[\"Organisation\", \"Price\"], ascending=[False, False]), x=\"Price\",nbins=10) \n"
      ]
    },
    {
      "cell_type": "markdown",
      "metadata": {
        "id": "QiNtigQDne3E"
      },
      "source": [
        "# Use a Choropleth Map to Show the Number of Launches by Country\n",
        "\n",
        "* Create a choropleth map using [the plotly documentation](https://plotly.com/python/choropleth-maps/)\n",
        "* Experiment with [plotly's available colours](https://plotly.com/python/builtin-colorscales/). I quite like the sequential colour `matter` on this map. \n",
        "* You'll need to extract a `country` feature as well as change the country names that no longer exist.\n",
        "\n",
        "Wrangle the Country Names\n",
        "\n",
        "You'll need to use a 3 letter country code for each country. You might have to change some country names.\n",
        "\n",
        "* Russia is the Russian Federation\n",
        "* New Mexico should be USA\n",
        "* Yellow Sea refers to China\n",
        "* Shahrud Missile Test Site should be Iran\n",
        "* Pacific Missile Range Facility should be USA\n",
        "* Barents Sea should be Russian Federation\n",
        "* Gran Canaria should be USA\n",
        "\n",
        "\n",
        "You can use the iso3166 package to convert the country names to Alpha3 format."
      ]
    },
    {
      "cell_type": "code",
      "execution_count": null,
      "metadata": {
        "id": "Y46-4GHrozhF"
      },
      "outputs": [],
      "source": [
        "df_data[\"Country\"] = df_data[\"Location\"].str.split(\", \").str[-1]\n",
        "\n",
        "df_data.loc[(df_data[\"Country\"] == 'Russia'), \"Country\"] = \"Russian Federation\"\n",
        "df_data.loc[(df_data[\"Country\"] == 'New Mexico'), \"Country\"] = \"USA\"\n",
        "df_data.loc[(df_data[\"Country\"] == 'Yellow Sea'), \"Country\"] = \"China\"\n",
        "df_data.loc[(df_data[\"Country\"] == 'Shahrud Missile Test Site'), \"Country\"] = \"Iran\"\n",
        "df_data.loc[(df_data[\"Country\"] == 'Pacific Missile Range Facility'), \"Country\"] = \"USA\"\n",
        "df_data.loc[(df_data[\"Country\"] == 'Barents Sea'), \"Country\"] = \"Russian Federation\"\n",
        "df_data.loc[(df_data[\"Country\"] == 'Gran Canaria'), \"Country\"] = \"USA\"\n",
        "df_data.loc[(df_data[\"Country\"] == 'Iran'), \"Country\"] = \"Iran, Islamic Republic of\"\n",
        "df_data.loc[(df_data[\"Country\"] == 'South Korea'), \"Country\"] = \"Korea, Republic of\"\n",
        "df_data.loc[(df_data[\"Country\"] == 'North Korea'), \"Country\"] = \"Korea, Democratic People's Republic of\"\n",
        "df_data.loc[(df_data[\"Country\"] == 'Kazakhstan'), \"Country\"] = \"Russian Federation\"\n",
        "\n",
        "countries_list = {country.name: key for key, country in iso.countries_by_alpha3.items()}\n",
        "df_data = df_data.replace({\"Country\": countries_list})\n",
        "\n",
        "launches = df_data[\"Country\"].value_counts().rename_axis(\"Country\").reset_index(name='counts')\n",
        "launches.head()\n",
        "\n",
        "world_map = px.choropleth(launches, locations=\"Country\", color=\"counts\", color_continuous_scale=px.colors.sequential.matter)\n",
        "world_map.update_layout(coloraxis_showscale=True)\n",
        "world_map.show()\n",
        "df_data.head()"
      ]
    },
    {
      "cell_type": "code",
      "execution_count": null,
      "metadata": {
        "id": "ESGRWiX6ozZG"
      },
      "outputs": [],
      "source": [
        "for c in countries_list: \n",
        "    print(c)"
      ]
    },
    {
      "cell_type": "markdown",
      "metadata": {
        "id": "F3pwYSUlo_AK"
      },
      "source": [
        "# Use a Choropleth Map to Show the Number of Failures by Country\n"
      ]
    },
    {
      "cell_type": "code",
      "execution_count": null,
      "metadata": {
        "id": "8BH4ICtro9I0"
      },
      "outputs": [],
      "source": [
        "statuses = df_data.groupby(\"Country\")[\"Mission_status\"].value_counts().rename_axis([\"Country\", \"Status\"]).reset_index(name='counts')\n",
        "failures = statuses[statuses[\"Status\"].str.contains(\"Fail\")].groupby(\"Country\").sum()\n",
        "\n",
        "world_map = px.choropleth(failures, locations=failures.index, color=\"counts\", color_continuous_scale=px.colors.sequential.matter)\n",
        "world_map.update_layout(coloraxis_showscale=True) \n",
        "world_map.show()"
      ]
    },
    {
      "cell_type": "markdown",
      "metadata": {
        "id": "9LqcqSrKa-qN",
        "papermill": {
          "duration": 0.039343,
          "end_time": "2020-10-20T21:34:06.591694",
          "exception": false,
          "start_time": "2020-10-20T21:34:06.552351",
          "status": "completed"
        },
        "tags": []
      },
      "source": [
        "# Create a Plotly Sunburst Chart of the countries, organisations, and mission status. "
      ]
    },
    {
      "cell_type": "code",
      "execution_count": null,
      "metadata": {
        "id": "MwUfpoByo3_J"
      },
      "outputs": [],
      "source": [
        "sunburst = df_data.groupby(by=[\"Country\", \"Organisation\", \"Mission_status\"], as_index=False).size()\n",
        "sunburst = sunburst.sort_values(\"size\", ascending=False)\n",
        "sunburst.head()\n",
        "px.sunburst(sunburst, path=[\"Country\", \"Organisation\", \"Mission_status\"], values=\"size\", title=\"Missions By Country\")"
      ]
    },
    {
      "cell_type": "markdown",
      "metadata": {
        "id": "70pG1BCZa-qY",
        "papermill": {
          "duration": 0.062712,
          "end_time": "2020-10-20T21:34:07.951200",
          "exception": false,
          "start_time": "2020-10-20T21:34:07.888488",
          "status": "completed"
        },
        "tags": []
      },
      "source": [
        "# Analyse the Total Amount of Money Spent by Organisation on Space Missions"
      ]
    },
    {
      "cell_type": "code",
      "execution_count": null,
      "metadata": {
        "id": "IaJYxwEVpKHy"
      },
      "outputs": [],
      "source": [
        "money_spent = df_data[df_data[\"Price\"].notna()]\n",
        "\n",
        "money_spent[\"Price\"] = money_spent[\"Price\"].replace(',', '').astype(float)\n",
        "\n",
        "total_money_spent = money_spent.groupby(\"Organisation\")[\"Price\"].sum().reset_index()\n",
        "total_money_spent.sort_values(by=\"Price\", ascending=False)\n",
        "total_money_spent.head()"
      ]
    },
    {
      "cell_type": "markdown",
      "metadata": {
        "id": "DpsWkPxzpPXs"
      },
      "source": [
        "# Analyse the Amount of Money Spent by Organisation per Launch"
      ]
    },
    {
      "cell_type": "code",
      "execution_count": null,
      "metadata": {
        "id": "opYJ6GiRpTk5"
      },
      "outputs": [],
      "source": [
        "organisation_expense = money_spent.groupby(\"Organisation\")[\"Price\"].mean().reset_index()\n",
        "organisation_expense.sort_values(\"Price\", ascending=False)\n",
        "organisation_expense.head()"
      ]
    },
    {
      "cell_type": "markdown",
      "metadata": {
        "id": "yRa1BbPoa-qf",
        "papermill": {
          "duration": 0.042662,
          "end_time": "2020-10-20T21:34:09.943196",
          "exception": false,
          "start_time": "2020-10-20T21:34:09.900534",
          "status": "completed"
        },
        "tags": []
      },
      "source": [
        "# Chart the Number of Launches per Year"
      ]
    },
    {
      "cell_type": "code",
      "execution_count": null,
      "metadata": {
        "id": "_9FohVh3pcAJ"
      },
      "outputs": [],
      "source": [
        "# Converted the date to the datetime object, then extracted the year from the datetime object.\n",
        "df_data['date'] = pd.to_datetime(df_data['Date'])\n",
        "df_data['year'] = df_data['date'].apply(lambda datetime: datetime.year)\n",
        "# df_data['year'].head()\n",
        "\n",
        "# Counted the number of times the same year is mentioned.\n",
        "ds = df_data['year'].value_counts().reset_index()\n",
        "ds.columns = [\n",
        "    'year', \n",
        "    'count'\n",
        "]\n",
        "# Passing the year and the count to the bar graph.\n",
        "fig = px.bar(\n",
        "    ds, \n",
        "    x='year', \n",
        "    y=\"count\", \n",
        "    orientation='v', \n",
        "    title='Missions number by year' \n",
        "#     width=800\n",
        ")\n",
        "fig.show()"
      ]
    },
    {
      "cell_type": "markdown",
      "metadata": {
        "id": "NomJVLi3tIaM"
      },
      "source": [
        "# Chart the Number of Launches Month-on-Month until the Present\n",
        "\n",
        "Which month has seen the highest number of launches in all time? Superimpose a rolling average on the month on month time series chart. "
      ]
    },
    {
      "cell_type": "code",
      "execution_count": null,
      "metadata": {
        "id": "H1N2aBs5tH9z"
      },
      "outputs": [],
      "source": [
        "# Converted the date to the datetime object, then extracted the month from the datetime object.\n",
        "df_data['date'] = pd.to_datetime(df_data['Date'])\n",
        "df_data['month'] = df_data['date'].apply(lambda datetime: datetime.month)\n",
        "# df_data['month'].head()\n",
        "\n",
        "# Counted the number of times the same month is mentioned.\n",
        "ds = df_data['month'].value_counts().reset_index()\n",
        "ds.columns = [\n",
        "    'month', \n",
        "    'count'\n",
        "]\n",
        "# Passing the year and the count to the bar graph.\n",
        "fig = px.bar(\n",
        "    ds, \n",
        "    x='month', \n",
        "    y=\"count\", \n",
        "    orientation='v', \n",
        "    title='Missions number by month' \n",
        "#     width=800\n",
        ")\n",
        "fig.show()\n",
        "\n",
        "# December has the most launches of all time."
      ]
    },
    {
      "cell_type": "markdown",
      "metadata": {
        "id": "t-avMIZoa-qh",
        "papermill": {
          "duration": 0.044409,
          "end_time": "2020-10-20T21:34:10.162592",
          "exception": false,
          "start_time": "2020-10-20T21:34:10.118183",
          "status": "completed"
        },
        "tags": []
      },
      "source": [
        "# Launches per Month: Which months are most popular and least popular for launches?\n",
        "\n",
        "Some months have better weather than others. Which time of year seems to be best for space missions?"
      ]
    },
    {
      "cell_type": "code",
      "execution_count": null,
      "metadata": {
        "id": "zmtp5uBHppFG"
      },
      "outputs": [],
      "source": [
        "# Using max to find the most launches per month\n",
        "most_launches = ds['count'].max()\n",
        "print(\"Most launches in a month =\", most_launches)\n",
        "\n",
        "# print the month associated with the max value\n",
        "ds.sort_values(by=\"count\", ascending=False)\n",
        "ds.max()"
      ]
    },
    {
      "cell_type": "code",
      "execution_count": null,
      "metadata": {
        "id": "fnk2m_cpppJo"
      },
      "outputs": [],
      "source": [
        "#Using min to find the least launches per month\n",
        "least_launches = ds['count'].min()\n",
        "print(\"Least launches in a month =\", least_launches)\n",
        "ds.min()"
      ]
    },
    {
      "cell_type": "markdown",
      "metadata": {
        "id": "dPQ_N_sfa-qo",
        "papermill": {
          "duration": 0.067915,
          "end_time": "2020-10-20T21:34:11.122539",
          "exception": false,
          "start_time": "2020-10-20T21:34:11.054624",
          "status": "completed"
        },
        "tags": []
      },
      "source": [
        "# How has the Launch Price varied Over Time? \n",
        "\n",
        "Create a line chart that shows the average price of rocket launches over time. "
      ]
    },
    {
      "cell_type": "code",
      "execution_count": null,
      "metadata": {
        "id": "hFc-2M5-qCrv"
      },
      "outputs": [],
      "source": [
        "avg_price = df_data[df_data[\"Price\"].notna()]\n",
        "pd.options.mode.chained_assignment = None\n",
        "avg_price[\"Price\"] = avg_price[\"Price\"].replace(',', '').astype(float)\n",
        "\n",
        "avg_price.groupby(\"year\").mean().plot(figsize=(12, 8))"
      ]
    },
    {
      "cell_type": "markdown",
      "metadata": {
        "id": "8OYrWyiOa-qs",
        "papermill": {
          "duration": 0.047152,
          "end_time": "2020-10-20T21:34:11.681371",
          "exception": false,
          "start_time": "2020-10-20T21:34:11.634219",
          "status": "completed"
        },
        "tags": []
      },
      "source": [
        "# Chart the Number of Launches over Time by the Top 10 Organisations. \n",
        "\n",
        "How has the dominance of launches changed over time between the different players? "
      ]
    },
    {
      "cell_type": "code",
      "execution_count": null,
      "metadata": {
        "id": "RcsrPPpAqVFj"
      },
      "outputs": [],
      "source": [
        "# Grab data from Organisations and Locations columns\n",
        "# Sort through data to find the top 10 Organisations \n",
        "top_10=pd.DataFrame(columns=df_data.columns)\n",
        "for val in df_data.groupby(\"Organisation\").count().sort_values(\"Date\",ascending=False)[:10].index:\n",
        "  print(val)\n",
        "  org=df_data[df_data.Organisation==val]\n",
        "  top_10=top_10.append(org,ignore_index=False, verify_integrity=False, sort=None)\n",
        "top_10\n",
        "\n",
        "df_data[df_data.Organisation==\"CASC\"]\n",
        "\n",
        "top_10.groupby(\"Organisation\").count().sort_values(\"Date\",ascending=False)[:10].index\n",
        "\n",
        "# print(top_10.shape)\n",
        "\n",
        "# Create a chart to display the data\n",
        "px.histogram(top_10.sort_values(by=[\"Organisation\", \"Date\"], ascending=[True, False]), x=\"Organisation\",nbins=10) "
      ]
    },
    {
      "cell_type": "markdown",
      "metadata": {
        "id": "6Cm8_ch6a-q7",
        "papermill": {
          "duration": 0.052399,
          "end_time": "2020-10-20T21:34:13.756781",
          "exception": false,
          "start_time": "2020-10-20T21:34:13.704382",
          "status": "completed"
        },
        "tags": []
      },
      "source": [
        "# Cold War Space Race: USA vs USSR\n",
        "\n",
        "The cold war lasted from the start of the dataset up until 1991. "
      ]
    },
    {
      "cell_type": "code",
      "execution_count": null,
      "metadata": {
        "id": "AcE_U8csrICL"
      },
      "outputs": [],
      "source": [
        "Or_df = df_data[(df_data['Country']=='USA') | (df_data['Country']=='RUS')]\n",
        "# Or_df.head()"
      ]
    },
    {
      "cell_type": "code",
      "execution_count": null,
      "metadata": {
        "id": "cOe_t4OmrHr9"
      },
      "outputs": [],
      "source": [
        "# Sort years\n",
        "cold_war_years = Or_df.sort_values(\"year\")\n",
        "\n",
        "# Grab years from start of dataset (1964) til 1991\n",
        "cold_war_years[(cold_war_years.year <= 1991)]"
      ]
    },
    {
      "cell_type": "markdown",
      "metadata": {
        "id": "Os-3A5vLa-q9",
        "papermill": {
          "duration": 0.054318,
          "end_time": "2020-10-20T21:34:14.089604",
          "exception": false,
          "start_time": "2020-10-20T21:34:14.035286",
          "status": "completed"
        },
        "tags": []
      },
      "source": [
        "## Create a Plotly Pie Chart comparing the total number of launches of the USSR and the USA\n",
        "\n",
        "Hint: Remember to include former Soviet Republics like Kazakhstan when analysing the total number of launches. "
      ]
    },
    {
      "cell_type": "code",
      "execution_count": null,
      "metadata": {
        "id": "1irc6_W9rD59"
      },
      "outputs": [],
      "source": [
        "# Grab the data for USA and for Russian Federation (aka USSR)\n",
        "Or_df = df_data[(df_data['Country']=='USA') | (df_data['Country']=='RUS')]\n",
        "Or_df.head()"
      ]
    },
    {
      "cell_type": "code",
      "execution_count": null,
      "metadata": {
        "id": "OhhuLQycrEE-"
      },
      "outputs": [],
      "source": [
        "# Do not need to count the data - since the pie chart will collect the data per country. However, getting the count will help us to know if the data pulled into the pie chart is accurate.\n",
        "launches = Or_df[\"Country\"].value_counts().rename_axis(\"Country\").reset_index(name='counts')\n",
        "launches.head()"
      ]
    },
    {
      "cell_type": "code",
      "execution_count": null,
      "metadata": {},
      "outputs": [],
      "source": [
        "# https://stackoverflow.com/questions/65806703/python-pie-chart-using-csv\n",
        "# Plot chart using Country and Mission_Status. When ploting the Mission_Status data will be counted and will return the total number of launches by country\n",
        "colors = [\"#1f77b4\", \"#ff7f0e\"]\n",
        "grouping = Or_df.groupby(\"Country\").count().reset_index()\n",
        "sizes = grouping['Mission_Status']\n",
        "labels = grouping['Country']\n",
        "\n",
        "plt.pie(sizes, labels = labels, colors = colors)"
      ]
    },
    {
      "cell_type": "markdown",
      "metadata": {
        "id": "0C29Zz4xa-rA",
        "papermill": {
          "duration": 0.052921,
          "end_time": "2020-10-20T21:34:14.340085",
          "exception": false,
          "start_time": "2020-10-20T21:34:14.287164",
          "status": "completed"
        },
        "tags": []
      },
      "source": [
        "## Create a Chart that Shows the Total Number of Launches Year-On-Year by the Two Superpowers"
      ]
    },
    {
      "cell_type": "code",
      "execution_count": null,
      "metadata": {
        "id": "9ISKvOiCrS73"
      },
      "outputs": [],
      "source": [
        "Or_df = df_data[(df_data['Country']=='USA') | (df_data['Country']=='RUS')]\n",
        "# .size() can be used rather than counts()\n",
        "Or_df.groupby([\"year\", \"Country\"]).size().unstack().plot()"
      ]
    },
    {
      "cell_type": "markdown",
      "metadata": {
        "id": "eWv4iZmra-rE",
        "papermill": {
          "duration": 0.079311,
          "end_time": "2020-10-20T21:34:14.933058",
          "exception": false,
          "start_time": "2020-10-20T21:34:14.853747",
          "status": "completed"
        },
        "tags": []
      },
      "source": [
        "## Chart the Total Number of Mission Failures Year on Year."
      ]
    },
    {
      "cell_type": "code",
      "execution_count": null,
      "metadata": {
        "id": "I-Zss5-Mre-4"
      },
      "outputs": [],
      "source": [
        "Or_df = df_data[df_data['Mission_Status'].str.contains(\"Failure\")]\n",
        "Or_df.head()"
      ]
    },
    {
      "cell_type": "code",
      "execution_count": null,
      "metadata": {
        "id": "7Ps9Iq_crfYl"
      },
      "outputs": [],
      "source": [
        "# How to grab the failures by year from above to use as data points for the chart? Rather than mission status I want failures \n",
        "yearly_failures = px.data.tips()\n",
        "fig = px.sunburst(Or_df, path=[\"year\", \"Mission_Status\"])\n",
        "fig.show()"
      ]
    },
    {
      "cell_type": "markdown",
      "metadata": {
        "id": "XNp-NkrJriEF"
      },
      "source": [
        "## Chart the Percentage of Failures over Time\n",
        "\n",
        "Did failures go up or down over time? Did the countries get better at minimising risk and improving their chances of success over time? "
      ]
    },
    {
      "cell_type": "code",
      "execution_count": null,
      "metadata": {
        "id": "Kj3-zsI0rhOS"
      },
      "outputs": [],
      "source": [
        "grouping = Or_df.groupby(\"year\").count().reset_index()\n",
        "sizes = grouping['Mission_Status']\n",
        "labels = grouping['year']\n",
        "\n",
        "plt.pie(sizes, labels = labels)\n",
        "fig = plt.gcf()\n",
        "fig.set_size_inches(15,15)\n",
        "plt.show()"
      ]
    },
    {
      "cell_type": "markdown",
      "metadata": {
        "id": "S5aOC7bGr2OX"
      },
      "source": [
        "# For Every Year Show which Country was in the Lead in terms of Total Number of Launches up to and including including 2020)\n",
        "\n",
        "Do the results change if we only look at the number of successful launches? "
      ]
    },
    {
      "cell_type": "code",
      "execution_count": null,
      "metadata": {
        "id": "_h0grIXKsOz_"
      },
      "outputs": [],
      "source": [
        "country_launches = df_data.groupby(\"year\")[\"Country\"].value_counts().rename_axis([\"year\", \"Country\"]).reset_index(name='counts')\n",
        "\n",
        "# group by year, then by country, then find max count\n",
        "country_launches.loc[country_launches.groupby(\"year\")[\"counts\"].idxmax()]\n",
        "country_launches.head()"
      ]
    },
    {
      "cell_type": "markdown",
      "metadata": {
        "id": "jQcqBfJ8serG"
      },
      "source": [
        "# Create a Year-on-Year Chart Showing the Organisation Doing the Most Number of Launches\n",
        "\n",
        "Which organisation was dominant in the 1970s and 1980s? Which organisation was dominant in 2018, 2019 and 2020? "
      ]
    },
    {
      "cell_type": "code",
      "execution_count": null,
      "metadata": {
        "id": "jc9ImQEWsztG"
      },
      "outputs": [],
      "source": [
        "org_launches = df_data.groupby(\"year\")[\"Organisation\"].value_counts().rename_axis([\"year\", \"Organisation\"]).reset_index(name='counts')\n",
        "\n",
        "# group by year, then by country, then find max count\n",
        "org_launches.loc[org_launches.groupby(\"year\")[\"counts\"].idxmax()]\n",
        "org_launches.head()"
      ]
    },
    {
      "cell_type": "code",
      "execution_count": null,
      "metadata": {
        "id": "r5frxzwlsz5W"
      },
      "outputs": [],
      "source": [
        "org_set = set(org_launches['Organisation'])\n",
        "\n",
        "plt.figure(figsize=(12, 10), dpi=80)\n",
        "for org in org_set:\n",
        "     selected_data = org_launches.loc[org_launches['Organisation'] == org]\n",
        "     plt.plot(selected_data['year'], selected_data['counts'], label=org)\n",
        "   \n",
        "plt.legend()\n",
        "plt.show()"
      ]
    }
  ],
  "metadata": {
    "colab": {
      "name": "Space Missions Analysis (start).ipynb",
      "provenance": []
    },
    "kernelspec": {
      "display_name": "Python 3",
      "language": "python",
      "name": "python3"
    },
    "language_info": {
      "codemirror_mode": {
        "name": "ipython",
        "version": 3
      },
      "file_extension": ".py",
      "mimetype": "text/x-python",
      "name": "python",
      "nbconvert_exporter": "python",
      "pygments_lexer": "ipython3",
      "version": "3.7.9"
    },
    "papermill": {
      "duration": 28.468597,
      "end_time": "2020-10-20T21:34:26.910951",
      "environment_variables": {},
      "exception": null,
      "input_path": "__notebook__.ipynb",
      "output_path": "__notebook__.ipynb",
      "parameters": {},
      "start_time": "2020-10-20T21:33:58.442354",
      "version": "2.1.0"
    }
  },
  "nbformat": 4,
  "nbformat_minor": 0
}
